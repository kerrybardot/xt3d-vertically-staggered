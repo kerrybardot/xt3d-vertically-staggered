{
 "cells": [
  {
   "cell_type": "code",
   "execution_count": 1,
   "id": "bdc54f1f-faa8-4d39-9f03-485d8767780e",
   "metadata": {},
   "outputs": [],
   "source": [
    "import os\n",
    "import numpy as np\n",
    "import matplotlib.pyplot as plt\n",
    "import flopy\n",
    "import flopy.plot.styles as styles\n",
    "from dis2disu import Dis2Disu"
   ]
  },
  {
   "cell_type": "code",
   "execution_count": 2,
   "id": "f0d1f6df",
   "metadata": {},
   "outputs": [
    {
     "data": {
      "image/png": "[encoded data removed]",
      "text/plain": [
       "<Figure size 432x288 with 1 Axes>"
      ]
     },
     "metadata": {
      "needs_background": "light"
     },
     "output_type": "display_data"
    }
   ],
   "source": [
    "Lx = 5.0\n",
    "Lz = 3.0\n",
    "nlay, nrow, ncol = 2, 1, 10\n",
    "delc = 1.\n",
    "delr = float(Lx / ncol)\n",
    "delz = float(Lz / nlay)\n",
    "top = np.linspace(.5 * delr, Lx - .5 * delr, ncol)\n",
    "top = top.reshape((nrow, ncol))\n",
    "botm = np.empty((nlay, nrow, ncol))\n",
    "botm[0] = top - delz\n",
    "for k in range(1, nlay):\n",
    "    botm[k] = botm[k - 1] - delz\n",
    "\n",
    "delr = delr * np.ones(ncol, dtype=float)\n",
    "delc = delc * np.ones(nrow, dtype=float)\n",
    "mgs = flopy.discretization.StructuredGrid(delr=delr, delc=delc, top=top, botm=botm)\n",
    "xs = flopy.plot.PlotCrossSection(modelgrid=mgs, line={\"row\":0})\n",
    "xs.plot_grid()\n",
    "\n",
    "d2d = Dis2Disu(delr, delc, top, botm, staggered=True)"
   ]
  },
  {
   "cell_type": "code",
   "execution_count": 3,
   "id": "b614878b",
   "metadata": {},
   "outputs": [
    {
     "name": "stdout",
     "output_type": "stream",
     "text": [
      "WARNING: Unable to resolve dimension of ('gwf6', 'disu', 'cell2d', 'cell2d', 'icvert') based on shape \"ncvert\".\n",
      "writing simulation...\n",
      "  writing simulation name file...\n",
      "  writing simulation tdis package...\n",
      "  writing ims package ims_-1...\n",
      "  writing model mymodel...\n",
      "    writing model name file...\n",
      "    writing package disu...\n",
      "    writing package ic...\n",
      "    writing package npf...\n",
      "    writing package chd_0...\n",
      "INFORMATION: maxbound in ('gwf6', 'chd', 'dimensions') changed to 4 based on size of stress_period_data\n",
      "    writing package oc...\n",
      "FloPy is using the following executable to run the model: ./bin/mf6.exe\n",
      "                                   MODFLOW 6\n",
      "                U.S. GEOLOGICAL SURVEY MODULAR HYDROLOGIC MODEL\n",
      "                            VERSION 6.3.0 03/04/2022\n",
      "\n",
      "   MODFLOW 6 compiled Mar 02 2022 15:29:04 with Intel(R) Fortran Intel(R) 64\n",
      "   Compiler Classic for applications running on Intel(R) 64, Version 2021.5.0\n",
      "                             Build 20211109_000000\n",
      "\n",
      "This software has been approved for release by the U.S. Geological \n",
      "Survey (USGS). Although the software has been subjected to rigorous \n",
      "review, the USGS reserves the right to update the software as needed \n",
      "pursuant to further analysis and review. No warranty, expressed or \n",
      "implied, is made by the USGS or the U.S. Government as to the \n",
      "functionality of the software and related material nor shall the \n",
      "fact of release constitute any such warranty. Furthermore, the \n",
      "software is released on condition that neither the USGS nor the U.S. \n",
      "Government shall be held liable for any damages resulting from its \n",
      "authorized or unauthorized use. Also refer to the USGS Water \n",
      "Resources Software User Rights Notice for complete use, copyright, \n",
      "and distribution information.\n",
      "\n",
      " \n",
      " Run start date and time (yyyy/mm/dd hh:mm:ss): 2022/08/22 16:05:57\n",
      " \n",
      " Writing simulation list file: mfsim.lst\n",
      " Using Simulation name file: mfsim.nam\n",
      " \n",
      "    Solving:  Stress period:     1    Time step:     1\n",
      " \n",
      " Run end date and time (yyyy/mm/dd hh:mm:ss): 2022/08/22 16:05:58\n",
      " Elapsed run time:  0.070 Seconds\n",
      " \n",
      " Normal termination of simulation.\n"
     ]
    },
    {
     "data": {
      "image/png": "[encoded data removed]",
      "text/plain": [
       "<Figure size 432x288 with 1 Axes>"
      ]
     },
     "metadata": {
      "needs_background": "light"
     },
     "output_type": "display_data"
    }
   ],
   "source": [
    "ws = './disu_model'\n",
    "name = 'mymodel'\n",
    "sim = flopy.mf6.MFSimulation(sim_name=name, sim_ws=ws, exe_name='./bin/mf6')\n",
    "tdis = flopy.mf6.ModflowTdis(sim)\n",
    "ims = flopy.mf6.ModflowIms(sim, linear_acceleration='bicgstab')\n",
    "gwf = flopy.mf6.ModflowGwf(sim, modelname=name, save_flows=True)\n",
    "disu = flopy.mf6.ModflowGwfdisu(gwf, **d2d.get_gridprops_disu6())\n",
    "ic = flopy.mf6.ModflowGwfic(gwf)\n",
    "npf = flopy.mf6.ModflowGwfnpf(gwf, save_specific_discharge=True, xt3doptions=True,\n",
    "                              angle1=0., angle2=0., angle3=0.)\n",
    "chd = flopy.mf6.ModflowGwfchd(gwf, stress_period_data=[[(0,), 1.], [(10,), 1.], [(9,), 0.], [(19,), 0.]])\n",
    "budget_file = name + '.bud'\n",
    "head_file = name + '.hds'\n",
    "oc = flopy.mf6.ModflowGwfoc(gwf,\n",
    "                            budget_filerecord=budget_file,\n",
    "                            head_filerecord=head_file,\n",
    "                            saverecord=[('HEAD', 'ALL'), ('BUDGET', 'ALL')])\n",
    "sim.write_simulation()\n",
    "sim.run_simulation()\n",
    "\n",
    "head = gwf.output.head().get_data()\n",
    "bud = gwf.output.budget()\n",
    "spdis = bud.get_data(text='DATA-SPDIS')[0]\n",
    "qx, qy, qz = flopy.utils.postprocessing.get_specific_discharge(spdis, gwf)\n",
    "\n",
    "fig = plt.figure()\n",
    "ax = fig.add_subplot(1, 1, 1)\n",
    "xs = flopy.plot.PlotCrossSection(model=gwf, ax=ax, line={\"line\": [(0.0, 0.5), (5.0, 0.5)]})\n",
    "xs.plot_array(head)\n",
    "xs.plot_grid()\n",
    "xs.plot_vector(qx, qy, qz, normalize=True, color=\"white\")\n",
    "\n",
    "# save figure\n",
    "figure_ext = \".png\"\n",
    "fpth = os.path.join(\n",
    "    \"..\", \"figures\", \"{}-head{}\".format(name, figure_ext)\n",
    ")\n",
    "fig.savefig(fpth)"
   ]
  },
  {
   "cell_type": "code",
   "execution_count": null,
   "id": "26ef08cf",
   "metadata": {},
   "outputs": [],
   "source": []
  }
 ],
 "metadata": {
  "interpreter": {
   "hash": "4de6a03450f83fb469d4bfe842137d7a431c514d49ec7ab5bf926f55f681a3d1"
  },
  "kernelspec": {
   "display_name": "Python 3 (ipykernel)",
   "language": "python",
   "name": "python3"
  },
  "language_info": {
   "codemirror_mode": {
    "name": "ipython",
    "version": 3
   },
   "file_extension": ".py",
   "mimetype": "text/x-python",
   "name": "python",
   "nbconvert_exporter": "python",
   "pygments_lexer": "ipython3",
   "version": "3.7.10"
  }
 },
 "nbformat": 4,
 "nbformat_minor": 5
}
