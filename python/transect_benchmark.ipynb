{
 "cells": [
  {
   "cell_type": "markdown",
   "metadata": {},
   "source": [
    "#### TRANSECT BENCHMARK WITH DISU APPROACH FOR VERTICALLY OFFSET GRIDS\n",
    "###### Note: this notebook is for DIS (overlay of hydrauic properties) and DISU (vertically staggered)"
   ]
  },
  {
   "cell_type": "code",
   "execution_count": 1,
   "metadata": {},
   "outputs": [],
   "source": [
    "import sys\n",
    "import os\n",
    "import numpy as np\n",
    "import matplotlib as mpl\n",
    "import matplotlib.pyplot as plt\n",
    "import flopy\n",
    "import math\n",
    "np.set_printoptions(precision=6)\n",
    "\n",
    "sim_name = 'TRANSECT'\n",
    "modelnames = ['RL', 'VO']\n",
    "workspace = '../Model/'\n",
    "exe_name = '../exe/mf6.exe'"
   ]
  },
  {
   "cell_type": "code",
   "execution_count": 2,
   "metadata": {},
   "outputs": [],
   "source": [
    "def write_input_files(gwf,modelname):\n",
    "    headfile = '{}.hds'.format(modelname)\n",
    "    head_filerecord = [headfile]\n",
    "    budgetfile = '{}.cbb'.format(modelname)\n",
    "    budget_filerecord = [budgetfile]\n",
    "    saverecord, printrecord = [('HEAD', 'ALL'), ('BUDGET', 'ALL')], [('HEAD', 'ALL')]\n",
    "    oc = flopy.mf6.modflow.mfgwfoc.ModflowGwfoc(gwf, pname='oc', saverecord=saverecord, head_filerecord=head_filerecord,\n",
    "                                                budget_filerecord=budget_filerecord, printrecord=printrecord)\n",
    "\n",
    "def get_data(modelname, workspace):\n",
    "    fpth = os.path.join(workspace, modelname +'.hds')\n",
    "    hds = flopy.utils.binaryfile.HeadFile(fpth)  \n",
    "    times = hds.get_times()\n",
    "    head = hds.get_data() #(totim=times[-1])\n",
    "    \n",
    "    fpth = os.path.join(workspace, modelname +'.cbb')\n",
    "    cbc = flopy.utils.binaryfile.CellBudgetFile(fpth)\n",
    "    flowja = cbc.get_data(text='FLOW-JA-FACE')[0][0][0]\n",
    "    spd = cbc.get_data(text='DATA-SPDIS')[0]\n",
    "    chdflow = cbc.get_data(text='CHD')[-1]\n",
    "    return(head, spd, chdflow, flowja)\n",
    "\n",
    "def find_kji(cell,nlay,nrow,ncol): #cellid is zerobased\n",
    "    import math\n",
    "    cellid = cell - 1\n",
    "    k = math.floor(cellid/(ncol*nrow)) # Zero based\n",
    "    j = math.floor((cellid - k*ncol*nrow)/ncol) # Zero based\n",
    "    i = cellid - k*ncol*nrow - j*ncol\n",
    "    return(k,j,i) # ZERO BASED!\n",
    "\n",
    "def find_cellid(k,j,i,nlay,nrow,ncol): # returns zero based cell id\n",
    "    return(i + j*ncol + k*ncol*nrow)\n",
    "\n",
    "def get_q_dis(spd,nlay,nrow,ncol):\n",
    "    q, qdir =  np.zeros((nlay,nrow,ncol)), np.zeros((nlay,nrow,ncol))\n",
    "    qx, qy, qz = np.zeros((nlay,nrow,ncol)), np.zeros((nlay,nrow,ncol)), np.zeros((nlay,nrow,ncol))\n",
    "    for rec in spd:   \n",
    "        cell = rec[0]\n",
    "        k,j,i = find_kji(cell,nlay,nrow,ncol)\n",
    "        q[k,j,i] = np.sqrt(rec[3]**2 + rec[4]**2 + rec[5]**2)\n",
    "        qx[k,j,i] = rec[3]\n",
    "        qy[k,j,i] = rec[4]\n",
    "        qz[k,j,i] = rec[5]\n",
    "        qdir[k,j,i] = math.degrees(math.atan(rec[5]/rec[3]))\n",
    "    return(q,qx,qy,qz,qdir)\n",
    "\n",
    "def upper_lower(slope,x, channel_vertical):\n",
    "    upper = slope * x + 100+channel_vertical # upper channel boundary\n",
    "    lower = slope * x + 100 # lower channel boundary\n",
    "    return(upper,lower)\n",
    "\n",
    "def head_analytical(h0, theta, hg, x, z):\n",
    "    head = h0 - hg * math.cos(math.radians(theta))*x - hg * math.sin(math.radians(theta))*z\n",
    "    return(head)\n",
    "\n",
    "def ch_flow(chdflow):\n",
    "    flow_in, flow_out = 0., 0.\n",
    "    for j in range(len(chdflow)):        \n",
    "        if chdflow[j][2]>0: flow_out += chdflow[j][2]\n",
    "        if chdflow[j][2]<0: flow_in  += chdflow[j][2]      \n",
    "    return((flow_in, flow_out))\n",
    "\n",
    "def get_q_disu(spd, flowja, gwf, staggered):\n",
    "\n",
    "    qx, qy, qz = flopy.utils.postprocessing.get_specific_discharge(spd, gwf)\n",
    "    # if cross-connections, recalculate qx taking into account overlap areas\n",
    "    if staggered:\n",
    "        gp = d2d.get_gridprops_disu6()\n",
    "        iac = gp[\"iac\"]\n",
    "        ja = gp[\"ja\"]\n",
    "        ihc = gp[\"ihc\"]\n",
    "        topbycell = gp[\"top\"]\n",
    "        botbycell = gp[\"bot\"]\n",
    "        hwva = gp[\"hwva\"]\n",
    "        iconn = -1\n",
    "        icell = -1\n",
    "        for il in iac:\n",
    "            icell += 1\n",
    "            qxnumer = 0.\n",
    "            qxdenom = 0.\n",
    "            for ilnbr in range(il):\n",
    "                iconn += 1\n",
    "                if ihc[iconn] == 2:\n",
    "                    inbr = ja[iconn]\n",
    "                    if (inbr == icell):\n",
    "                        continue\n",
    "                    dz = min(topbycell[icell], topbycell[inbr]) - max(botbycell[icell], botbycell[inbr])\n",
    "                    qxincr = flowja[iconn] / (hwva[iconn] * dz)\n",
    "                    # equal weight given to each face, but could weight by distance instead\n",
    "                    if (inbr < icell):\n",
    "                        qxnumer += qxincr\n",
    "                    else:\n",
    "                        qxnumer -= qxincr\n",
    "                    qxdenom += 1.\n",
    "            qx[icell] = qxnumer / qxdenom\n",
    "\n",
    "    print(len(spd))\n",
    "    qmag, qdir = [], []\n",
    "    for i in range(len(spd)):\n",
    "        qmag.append(np.sqrt(qx[i]**2 + qy[i]**2 + qz[i]**2))\n",
    "        qdir.append(math.degrees(math.atan(qz[i]/qx[i])))      \n",
    "    return(qmag,qx,qy,qz,qdir)"
   ]
  },
  {
   "cell_type": "markdown",
   "metadata": {},
   "source": [
    "#### Variables"
   ]
  },
  {
   "cell_type": "code",
   "execution_count": 3,
   "metadata": {},
   "outputs": [],
   "source": [
    "Lx, Ly, Lz = 1000., 1., 1000.\n",
    "nlay1, nrow1, ncol1 = 50, 1, 50 #COARSE: 28,1,28 # FINE: 128,1,128 (These correspond to flexible \"COARSE\" and \"FINE\" in plan) \n",
    "top = np.ones((nrow1,ncol1)) * Lz\n",
    "\n",
    "k1, k2, k3 = 1., 1., 0.01 # K in channel\n",
    "kdomain = 0.000001        # K in domain\n",
    "angle1, angle2, angle3 = 0., 30., 0. # Used for K tensors - Change Angle 2 for anisotropic\n",
    "staggered = True\n",
    "xt3d = True\n",
    "\n",
    "theta = 30. # Used for channel slope\n",
    "slope = math.tan(math.radians(theta))\n",
    "channel_vertical = 200 /math.cos(math.radians(30))\n",
    "channel_width = channel_vertical*math.cos(math.radians(30)) # width perpendicular to channel edges\n",
    "\n",
    "hg = 1. # Enforced hydraulic gradient\n",
    "h0 = 10. # theoretical head at (0,0) to form equation of plane \n",
    "strt = -500. # starting head\n",
    "\n",
    "nper, perlen, nts  = 1, 1., 1   # Steady-state\n",
    "perioddata = [(perlen, nts, 1.0)]\n",
    "\n",
    "all_gwf, all_ncells = [], []\n",
    "\n",
    "# SIMULATION\n",
    "sim = flopy.mf6.MFSimulation(sim_name=sim_name, version='mf6',exe_name=exe_name,sim_ws=workspace)\n",
    "tdis = flopy.mf6.modflow.mftdis.ModflowTdis(sim, time_units='DAYS', nper=nper,perioddata=perioddata)\n",
    "#ims = flopy.mf6.ModflowIms(sim, print_option='ALL', complexity='complex',outer_hclose=1.e-3, inner_hclose=1.e-3)\n",
    "## SOLVER FOR ANISOTROPIC CHANNEL\n",
    "ims = flopy.mf6.ModflowIms(sim, print_option='ALL', complexity='moderate',under_relaxation='simple',\n",
    "                           under_relaxation_gamma = 0.25, outer_maximum = 500, outer_hclose=1.e-2, inner_hclose=1.e-2)"
   ]
  },
  {
   "cell_type": "markdown",
   "metadata": {},
   "source": [
    "#### Method 1 - Rectilinear Discretisation (RL)"
   ]
  },
  {
   "cell_type": "code",
   "execution_count": 4,
   "metadata": {},
   "outputs": [],
   "source": [
    "# RL INPUTS\n",
    "all_ncells.append(nlay1*nrow1*ncol1)\n",
    "delr1, delc1, delz1 = Lx/ncol1, Ly/nrow1, Lz/nlay1\n",
    "\n",
    "botm1 = np.ones((nlay1,nrow1,ncol1))\n",
    "for lay in range(nlay1):\n",
    "    for col in range(ncol1):\n",
    "        botm1[lay,0,col] = Lz - delz1 * (lay + 1)\n",
    "    \n",
    "mask1 = np.ones((nlay1,nrow1,ncol1))\n",
    "for lay in range(nlay1):\n",
    "    for col in range(ncol1):\n",
    "        x = delr1/2 + delr1 * col\n",
    "        z = Lz - delz1/2 - delz1 * lay\n",
    "        upper, lower = upper_lower(slope,x, channel_vertical)\n",
    "        if z < lower or z > upper:\n",
    "            mask1[lay,0,col] = 0   \n",
    "            \n",
    "k11, k22, k33 = kdomain * np.ones((nlay1,nrow1,ncol1)), kdomain * np.ones((nlay1,nrow1,ncol1)), kdomain * np.ones((nlay1,nrow1,ncol1))\n",
    "CH_mask1 = np.zeros((nlay1,nrow1,ncol1))\n",
    "chd_rec = []\n",
    "\n",
    "for k in range(nlay1):\n",
    "    for j in range(nrow1):\n",
    "        for i in range(ncol1):\n",
    "            x = delr1/2 + i*delr1\n",
    "            z = Lz - (delz1/2 + k*delz1)\n",
    "            if mask1[k,j,i] != 0:              \n",
    "                k11[k,j,i] = k1 # K in channel\n",
    "                k22[k,j,i] = k2 # K in channel\n",
    "                k33[k,j,i] = k3 # K in channel\n",
    "            if i == 0 or i == ncol1-1 or k == 0 or k == nlay1-1: # Points within channel AND along boundary\n",
    "                CH_mask1[k][j][i] = 1\n",
    "                ch = head_analytical(h0, theta, hg, x, z) # CH in channel\n",
    "                chd_rec.append(((k, j, i), ch)) # CH in channel\n",
    "                \n",
    "# RL MODEL\n",
    "modelname=modelnames[0]\n",
    "gwf = flopy.mf6.ModflowGwf(sim, modelname=modelname, save_flows=True)\n",
    "dis = flopy.mf6.modflow.mfgwfdis.ModflowGwfdis(gwf, nlay=nlay1, nrow=nrow1, ncol=ncol1, \n",
    "                                                   delr=delr1,delc=delc1,top=top, botm=botm1) \n",
    "ic = flopy.mf6.ModflowGwfic(gwf, strt=strt)\n",
    "chd = flopy.mf6.modflow.mfgwfchd.ModflowGwfchd(gwf, maxbound=len(chd_rec), stress_period_data=chd_rec)\n",
    "npf = flopy.mf6.modflow.mfgwfnpf.ModflowGwfnpf(gwf, xt3doptions=xt3d,k=k11, k22=k22, k33=k33, \n",
    "                                               angle1 = angle1, angle2 = angle2, angle3 = angle3,\n",
    "                                               save_flows=True, save_specific_discharge=True)\n",
    "write_input_files(gwf,modelname)\n",
    "all_gwf.append(gwf)"
   ]
  },
  {
   "cell_type": "code",
   "execution_count": 5,
   "metadata": {},
   "outputs": [],
   "source": [
    "## Method 1 Analytical\n",
    "h_1_analytical = np.zeros((nlay1,nrow1,ncol1))\n",
    "q_1_analytical = np.zeros((nlay1,nrow1,ncol1))\n",
    "\n",
    "for k in range(nlay1):\n",
    "    for j in range(nrow1):\n",
    "        for i in range(ncol1):\n",
    "            x = delr1/2 + i*delr1\n",
    "            z = Lz - (delz1/2 + k*delz1)\n",
    "            h_1_analytical[k,j,i] = head_analytical(h0, theta, hg, x, z)\n",
    "            q_1_analytical[k,j,i] = hg * k1"
   ]
  },
  {
   "cell_type": "markdown",
   "metadata": {},
   "source": [
    "#### Method 2 - Vertically Offset (VO)"
   ]
  },
  {
   "cell_type": "code",
   "execution_count": 6,
   "metadata": {},
   "outputs": [],
   "source": [
    "# VO INPUTS\n",
    "nrow2, ncol2 = 1, ncol1 # Same number of columns as RL \n",
    "delr2, delc2 = Lx/ncol2, Ly/nrow2\n",
    "\n",
    "nlay_channel = int(channel_vertical/delr2) # nlay in channel, so that cells in channel are square as are RL\n",
    "del_channel = channel_vertical / nlay_channel # delz of cells within channel\n",
    "\n",
    "channel_upper = slope * Lx + 100 + channel_vertical\n",
    "nlay_upper = np.copy(nlay_channel) # arbitrary, but just make the same number of layers as in channel \n",
    "nlay_lower = np.copy(nlay_channel) # arbitrary, but just make the same number of layers as in channel\n",
    "nlay2 = nlay_channel + nlay_upper + nlay_lower\n",
    "all_ncells.append(nlay2 * nrow2 * ncol2)\n",
    "\n",
    "botm2, mask2 = np.ones((nlay2,nrow2,ncol2)), np.ones((nlay2,nrow2,ncol2))\n",
    "for col in range(ncol2):   \n",
    "    x = delr2/2 + delr2 * col\n",
    "    upper, lower = upper_lower(slope,x, channel_vertical)\n",
    "    upper_thickness, lower_thickness = Lz - upper, lower # aquifer thickness above and below channel\n",
    "    del_upper = upper_thickness / nlay_upper  # layer thickness\n",
    "    del_lower = lower_thickness / nlay_lower  # layer thickness\n",
    "\n",
    "    for n, i in enumerate(range(0,nlay_upper)): # layer bottoms above channel\n",
    "        botm2[i,0,col] = Lz - (n+1) * del_upper\n",
    "    for n, i in enumerate(range(nlay_upper, nlay_upper + nlay_channel)): # layer bottoms in channel\n",
    "        botm2[i,0,col] = upper - (n+1) * del_channel\n",
    "    for n, i in enumerate(range(nlay_upper + nlay_channel,nlay2)): # layer bottoms below channel\n",
    "        botm2[i,0,col] = lower - (n+1) * del_lower\n",
    "    botm2[nlay2-1,0,col] = 0.\n",
    "    #print(nlay_upper * del_upper + nlay_channel*del_channel + nlay_lower * del_lower)\n",
    "\n",
    "    # MASK FOR CHANNEL\n",
    "    for lay in range(nlay_upper):\n",
    "        mask2[lay,0,col] = 0 # top layer\n",
    "    for lay in range(nlay2 - nlay_lower, nlay2):\n",
    "        mask2[lay,0,col] = 0 # 3rd bottom layer\n",
    "        \n",
    "# CH and NPF\n",
    "ones = np.ones((nlay2,nrow2,ncol2))\n",
    "k11, k22, k33 = kdomain * ones, kdomain * ones, kdomain * ones  \n",
    "chd_rec = []\n",
    "CH_mask2 = np.zeros((nlay2,nrow2,ncol2))\n",
    "for k in range(nlay2):\n",
    "    for j in range(nrow2):\n",
    "        for i in range(ncol2):\n",
    "            x = delr2/2 + i*delr2\n",
    "            if k == 0:\n",
    "                z = botm2[k,j,i] + (top[j,i] - botm2[k,j,i])/2\n",
    "            else:\n",
    "                z = botm2[k,j,i] + (botm2[k-1,j,i] - botm2[k,j,i])/2 \n",
    "            if mask2[k,j,i] == 1:                \n",
    "                k11[k,j,i] = k1 # K in channel\n",
    "                k22[k,j,i] = k2 # K in channel\n",
    "                k33[k,j,i] = k3 # K in channel\n",
    "            if i == 0 or i == ncol2-1 or k == 0 or k == nlay2-1: \n",
    "                CH_mask2[k][j][i] = 1\n",
    "                ch = head_analytical(h0, theta, hg, x, z) \n",
    "                chd_rec.append(((k, j, i), ch)) "
   ]
  },
  {
   "cell_type": "markdown",
   "metadata": {},
   "source": [
    "#### Converter"
   ]
  },
  {
   "cell_type": "code",
   "execution_count": 7,
   "metadata": {},
   "outputs": [],
   "source": [
    "import flopy.plot.styles as styles ###\n",
    "from dis2disu import Dis2Disu ### \n",
    "delr = delr2 * np.ones(ncol2, dtype=float)\n",
    "delc = delc2 * np.ones(nrow2, dtype=float)\n",
    "mgs = flopy.discretization.StructuredGrid(delr=delr, delc=delc, top=top, botm=botm2)\n",
    "if ncol1 <= 40:\n",
    "    xs = flopy.plot.PlotCrossSection(modelgrid=mgs, line={\"row\":0})\n",
    "    xs.plot_grid()\n",
    "d2d = Dis2Disu(delr, delc, top, botm2, staggered=True)\n",
    "#help(d2d)\n",
    "#print(d2d.get_gridprops_disu6())"
   ]
  },
  {
   "cell_type": "code",
   "execution_count": 8,
   "metadata": {},
   "outputs": [
    {
     "name": "stdout",
     "output_type": "stream",
     "text": [
      "WARNING: Unable to resolve dimension of ('gwf6', 'disu', 'cell2d', 'cell2d', 'icvert') based on shape \"ncvert\".\n"
     ]
    }
   ],
   "source": [
    "chd_spd = []\n",
    "for rec in range(len(chd_rec)):\n",
    "    k, j, i = chd_rec[rec][0]\n",
    "    cellid = find_cellid(k,j,i,nlay2, nrow2, ncol2)\n",
    "    chd_spd.append([cellid, chd_rec[rec][1]])\n",
    "    \n",
    "k11.shape\n",
    "k11_usg, k33_usg = [], []\n",
    "for k in range(nlay2):\n",
    "    for j in range(nrow2):\n",
    "        for i in range(ncol2):\n",
    "            cellid = find_cellid(k,j,i,nlay2, nrow2, ncol2)\n",
    "            k11_usg.append(k11[k,j,i])\n",
    "            k33_usg.append(k33[k,j,i])\n",
    "\n",
    "modelname=modelnames[1] # VO MODEL \n",
    "gwf = flopy.mf6.ModflowGwf(sim, modelname=modelname, save_flows=True)\n",
    "disu = flopy.mf6.ModflowGwfdisu(gwf, **d2d.get_gridprops_disu6()) #### DISU\n",
    "ic = flopy.mf6.ModflowGwfic(gwf, strt=strt)       \n",
    "chd = flopy.mf6.modflow.mfgwfchd.ModflowGwfchd(gwf, stress_period_data=chd_spd)\n",
    "\n",
    "npf = flopy.mf6.modflow.mfgwfnpf.ModflowGwfnpf(gwf, xt3doptions=xt3d,k=k11_usg, k22=k11_usg, k33=k33_usg, \n",
    "                                               angle1 = angle1, angle2 = angle2, angle3 = angle3, save_flows=True, save_specific_discharge=True)\n",
    "write_input_files(gwf,modelname)\n",
    "all_gwf.append(gwf)\n"
   ]
  },
  {
   "cell_type": "code",
   "execution_count": 9,
   "metadata": {},
   "outputs": [],
   "source": [
    "### ANALYTICAL\n",
    "xc = gwf.modelgrid.xcellcenters[0:ncol2]\n",
    "z = gwf.modelgrid.zcellcenters[0]\n",
    "zc = np.zeros((nlay2, ncol2))\n",
    "ncells2 = nlay2 * nrow2 * ncol2\n",
    "for cell in range(ncells2):\n",
    "    lay, row, col = find_kji(cell,nlay2,nrow2,ncol2)\n",
    "    zc[lay][col] = z[cell]     \n",
    "\n",
    "h_2_analytical = np.zeros((nlay2,nrow2,ncol2))\n",
    "q_2_analytical = np.zeros((nlay2,nrow2,ncol2))\n",
    "\n",
    "for lay in range(nlay2):\n",
    "    for col in range(ncol2):\n",
    "        x = xc[col]\n",
    "        z = zc[lay][col]\n",
    "        #point = Point(x,y)\n",
    "        h_2_analytical[lay,0,col] = head_analytical(h0, theta, hg, x, z)\n",
    "        q_2_analytical[lay,0,col] = hg * k1"
   ]
  },
  {
   "cell_type": "markdown",
   "metadata": {},
   "source": [
    "#### Run Simulation"
   ]
  },
  {
   "cell_type": "code",
   "execution_count": 10,
   "metadata": {
    "scrolled": true
   },
   "outputs": [
    {
     "name": "stdout",
     "output_type": "stream",
     "text": [
      "writing simulation...\n",
      "  writing simulation name file...\n",
      "  writing simulation tdis package...\n",
      "  writing ims package ims_-1...\n",
      "  writing model RL...\n",
      "    writing model name file...\n",
      "    writing package dis...\n",
      "    writing package ic...\n",
      "    writing package chd_0...\n",
      "    writing package npf...\n",
      "    writing package oc...\n",
      "  writing model VO...\n",
      "    writing model name file...\n",
      "    writing package disu...\n",
      "    writing package ic...\n",
      "    writing package chd_0...\n",
      "INFORMATION: maxbound in ('gwf6', 'chd', 'dimensions') changed to 500 based on size of stress_period_data\n",
      "    writing package npf...\n",
      "    writing package oc...\n",
      "FloPy is using the following executable to run the model: ../exe/mf6.exe\n",
      "                                   MODFLOW 6\n",
      "                U.S. GEOLOGICAL SURVEY MODULAR HYDROLOGIC MODEL\n",
      "                            VERSION 6.3.0 03/04/2022\n",
      "\n",
      "   MODFLOW 6 compiled Mar 02 2022 15:29:04 with Intel(R) Fortran Intel(R) 64\n",
      "   Compiler Classic for applications running on Intel(R) 64, Version 2021.5.0\n",
      "                             Build 20211109_000000\n",
      "\n",
      "This software has been approved for release by the U.S. Geological \n",
      "Survey (USGS). Although the software has been subjected to rigorous \n",
      "review, the USGS reserves the right to update the software as needed \n",
      "pursuant to further analysis and review. No warranty, expressed or \n",
      "implied, is made by the USGS or the U.S. Government as to the \n",
      "functionality of the software and related material nor shall the \n",
      "fact of release constitute any such warranty. Furthermore, the \n",
      "software is released on condition that neither the USGS nor the U.S. \n",
      "Government shall be held liable for any damages resulting from its \n",
      "authorized or unauthorized use. Also refer to the USGS Water \n",
      "Resources Software User Rights Notice for complete use, copyright, \n",
      "and distribution information.\n",
      "\n",
      " \n",
      " Run start date and time (yyyy/mm/dd hh:mm:ss): 2022/09/08 21:55:04\n",
      " \n",
      " Writing simulation list file: mfsim.lst\n",
      " Using Simulation name file: mfsim.nam\n",
      " \n",
      "    Solving:  Stress period:     1    Time step:     1\n",
      " \n",
      " Run end date and time (yyyy/mm/dd hh:mm:ss): 2022/09/08 21:55:09\n",
      " Elapsed run time:  4.483 Seconds\n",
      " \n",
      "\n",
      "WARNING REPORT:\n",
      "\n",
      "  1. NONLINEAR BLOCK VARIABLE 'OUTER_HCLOSE' IN FILE 'TRANSECT.ims' WAS\n",
      "     DEPRECATED IN VERSION 6.1.1. SETTING OUTER_DVCLOSE TO OUTER_HCLOSE VALUE.\n",
      "  2. LINEAR BLOCK VARIABLE 'INNER_HCLOSE' IN FILE 'TRANSECT.ims' WAS\n",
      "     DEPRECATED IN VERSION 6.1.1. SETTING INNER_DVCLOSE TO INNER_HCLOSE VALUE.\n",
      " Normal termination of simulation.\n",
      "\n",
      "Success is:  True\n"
     ]
    }
   ],
   "source": [
    "sim.write_simulation()\n",
    "success, buff = sim.run_simulation()\n",
    "print('\\nSuccess is: ', success)"
   ]
  },
  {
   "cell_type": "markdown",
   "metadata": {},
   "source": [
    "#### Model setups"
   ]
  },
  {
   "cell_type": "code",
   "execution_count": 11,
   "metadata": {},
   "outputs": [
    {
     "data": {
      "text/plain": [
       "'# CH boundaries\\nplt.figure(figsize=(10,5))                   \\nplt.subplot(121, aspect = \\'equal\\') # RL\\nxsect = flopy.plot.PlotCrossSection(model=all_gwf[0], line={\\'Row\\': 0})\\nquadmesh = xsect.plot_array(CH_mask1, cmap=\\'Blues\\')\\nlinecollection = xsect.plot_grid(color = \\'black\\', linewidths=0.8)\\n\\nplt.subplot(122, aspect = \\'equal\\') # VO\\nxs = flopy.plot.PlotCrossSection(model=all_gwf[1], line={\"line\": [(0.0, 0.5), (Lx, 0.5)]})\\ncb = xs.plot_array(CH_mask2, cmap=\\'Blues\\')\\nxs.plot_grid(color = \\'black\\', linewidths=0.8)'"
      ]
     },
     "execution_count": 11,
     "metadata": {},
     "output_type": "execute_result"
    }
   ],
   "source": [
    "'''# CH boundaries\n",
    "plt.figure(figsize=(10,5))                   \n",
    "plt.subplot(121, aspect = 'equal') # RL\n",
    "xsect = flopy.plot.PlotCrossSection(model=all_gwf[0], line={'Row': 0})\n",
    "quadmesh = xsect.plot_array(CH_mask1, cmap='Blues')\n",
    "linecollection = xsect.plot_grid(color = 'black', linewidths=0.8)\n",
    "\n",
    "plt.subplot(122, aspect = 'equal') # VO\n",
    "xs = flopy.plot.PlotCrossSection(model=all_gwf[1], line={\"line\": [(0.0, 0.5), (Lx, 0.5)]})\n",
    "cb = xs.plot_array(CH_mask2, cmap='Blues')\n",
    "xs.plot_grid(color = 'black', linewidths=0.8)'''"
   ]
  },
  {
   "cell_type": "markdown",
   "metadata": {},
   "source": [
    "#### Get outputs"
   ]
  },
  {
   "cell_type": "code",
   "execution_count": 12,
   "metadata": {},
   "outputs": [
    {
     "name": "stdout",
     "output_type": "stream",
     "text": [
      "15300\n"
     ]
    }
   ],
   "source": [
    "# Get data and array of fluxes\n",
    "all_h, all_spd = [], []\n",
    "all_q, all_qxqyqz, all_qdir, all_flow = [], [], [], []\n",
    "all_nlay = [nlay1,nlay2]\n",
    "all_ncol = [ncol1,ncol2]\n",
    "\n",
    "# Method 1 - RECTILINEAR\n",
    "head, spd, chdflow, flowja = get_data(modelnames[0], workspace)\n",
    "all_h.append(head)\n",
    "all_spd.append(spd)\n",
    "qmag,qx,qy,qz, qdir = get_q_dis(spd,nlay1,nrow1,ncol1)\n",
    "all_q.append(qmag)\n",
    "all_qxqyqz.append((qx,qy,qz))\n",
    "all_qdir.append(qdir)\n",
    "all_flow.append(ch_flow(chdflow))\n",
    "\n",
    "# Method 2 - VERTICALLY OFFSET\n",
    "head, spd, chdflow, flowja = get_data(modelnames[1], workspace)\n",
    "all_h.append(head)\n",
    "all_spd.append(spd)\n",
    "qmag,qx,qy,qz, qdir = get_q_disu(spd, flowja, all_gwf[1], staggered)\n",
    "all_q.append(qmag)\n",
    "all_qxqyqz.append((qx,qy,qz))\n",
    "all_qdir.append(qdir)\n",
    "all_flow.append(ch_flow(chdflow))\n"
   ]
  },
  {
   "cell_type": "markdown",
   "metadata": {},
   "source": [
    "### Find q mag and theta in centre"
   ]
  },
  {
   "cell_type": "code",
   "execution_count": 13,
   "metadata": {},
   "outputs": [
    {
     "name": "stdout",
     "output_type": "stream",
     "text": [
      "RECTILINEAR FLUX 0.9999473965704269\n",
      "RECTILINEAR ANGLE 29.99447235273269\n",
      "\n",
      "VERTICALLY OFFSET FLUX 1.0010402756026817\n",
      "VERTICALLY OFFSET ANGLE 29.996162872930668\n"
     ]
    }
   ],
   "source": [
    "q_centre, theta_centre = [], []\n",
    "\n",
    "# Method 1\n",
    "qx1 = all_qxqyqz[0][0][int(nlay1/2),0,int(ncol1/2)]\n",
    "qy1 = all_qxqyqz[0][1][int(nlay1/2),0,int(ncol1/2)]\n",
    "qz1 = all_qxqyqz[0][2][int(nlay1/2),0,int(ncol1/2)]\n",
    "q_centre.append(all_q[0][int(nlay1/2),0,int(ncol1/2)])\n",
    "theta_centre.append(math.degrees(math.atan(qz1/qx1)))\n",
    "\n",
    "# Method 2\n",
    "colmid = int(ncol2 / 2)\n",
    "laymid = int(nlay2 / 2)\n",
    "centre_cell = find_cellid(laymid,0,colmid,nlay2,nrow2,ncol2)\n",
    "q_centre.append(qmag[centre_cell])\n",
    "theta_centre.append(qdir[centre_cell])\n",
    "\n",
    "print('RECTILINEAR FLUX',q_centre[0])\n",
    "print('RECTILINEAR ANGLE',theta_centre[0])\n",
    "\n",
    "print('\\nVERTICALLY OFFSET FLUX', q_centre[1])\n",
    "print('VERTICALLY OFFSET ANGLE', theta_centre[1])"
   ]
  },
  {
   "cell_type": "markdown",
   "metadata": {},
   "source": [
    "#### WHOLE MODEL (USE WITH COARSE RESOLUTION)"
   ]
  },
  {
   "cell_type": "code",
   "execution_count": 14,
   "metadata": {},
   "outputs": [],
   "source": [
    "if ncol1 <= 40: # Plots only for coarse resolution\n",
    "    \n",
    "    from mpl_toolkits.axes_grid1 import make_axes_locatable\n",
    "    titles = ['RECTILINEAR (RL)', 'VERTICALLY OFFSET (VO)']\n",
    "\n",
    "    # Plot head\n",
    "    fig, axes = plt.subplots(1,2, figsize=(16, 6),sharex=True, sharey=True)\n",
    "    if kdomain == 1:\n",
    "        if k1 == k3: fig.suptitle(\"HEAD DISTRIBUTION (ISOTROPIC AND HOMOGENEOUS)\", size = 16)\n",
    "        if k1 != k3: fig.suptitle(\"HEAD DISTRIBUTION (ANISOTROPIC AND HOMOGENEOUS)\", size = 16)\n",
    "    if kdomain < 1:\n",
    "        if k1 == k3: fig.suptitle(\"HEAD DISTRIBUTION (ISOTROPIC AND HETEROGENEOUS)\", size = 16)\n",
    "        if k1 != k3: fig.suptitle(\"HEAD DISTRIBUTION (ANISOTROPIC AND HETEROGENEOUS)\", size = 16)\n",
    "\n",
    "    for i, ax in enumerate(axes.flat):\n",
    "\n",
    "        gwf = all_gwf[i] # Get grid details for model\n",
    "        head = all_h[i]\n",
    "        nlay, nrow, ncol = all_nlay[i], 1, all_ncol[i]\n",
    "        ax = plt.subplot(1,2,i+1,aspect='equal')\n",
    "        ax.set_title(titles[i], size = 16)  \n",
    "\n",
    "        xs = flopy.plot.PlotCrossSection(model=all_gwf[i], line={\"line\": [(0.0, 0.5), (Lx, 0.5)]})\n",
    "        cb = xs.plot_array(a = head, masked_values=[1e30], cmap = 'Spectral',alpha=1.0)\n",
    "        xs.plot_grid(lw = 0.1, color = 'black')\n",
    "\n",
    "\n",
    "        vx, vy, vz = all_qxqyqz[i]\n",
    "        xs.plot_vector(vx, vy, vz, scale = 20, color='black')#headwidth=2, headlength=0.1, headaxislength=2.)\n",
    "\n",
    "        ax.set_xlabel('x (m)', size = 14)\n",
    "        if i == 0: ax.set_ylabel('y or z (m)', size = 14)\n",
    "        if i == 1: ax.set_ylabel('z (m)', size = 14)\n",
    "        plt.colorbar(cb, shrink = 0.6)"
   ]
  },
  {
   "cell_type": "code",
   "execution_count": 15,
   "metadata": {},
   "outputs": [
    {
     "name": "stdout",
     "output_type": "stream",
     "text": [
      "15300\n"
     ]
    },
    {
     "data": {
      "text/plain": [
       "(-1400.0, 0.0)"
      ]
     },
     "execution_count": 15,
     "metadata": {},
     "output_type": "execute_result"
    },
    {
     "data": {
      "image/png": "[encoded data removed]",
      "text/plain": [
       "<Figure size 648x288 with 2 Axes>"
      ]
     },
     "metadata": {
      "needs_background": "light"
     },
     "output_type": "display_data"
    }
   ],
   "source": [
    "fig, axes = plt.subplots(1,2, figsize=(9, 4))\n",
    "fig.suptitle(\"HEAD COMPARISON\", size = 16)\n",
    "\n",
    "# RECTILINEAR\n",
    "gwf = all_gwf[0] \n",
    "head = all_h[0]\n",
    "xcellcentres = gwf.modelgrid.xcellcenters\n",
    "zcellcentres = gwf.modelgrid.zcellcenters\n",
    "h1, h2 = [], []\n",
    "for k in range(nlay1):\n",
    "    for i in range(ncol1):\n",
    "        h1.append(head_analytical(h0, theta, hg, xcellcentres[0,i], zcellcentres[k,0,i])) # anlaytical\n",
    "        h2.append(head[k,0,i]) # simulated\n",
    "ax1 = plt.subplot(121,aspect='equal')\n",
    "ax1.plot(h1,h2,'o', ms = 0.8)\n",
    "ax1.set_title('Rectilinear', size = 14)  \n",
    "ax1.set_xlabel('Head Analytical(m)')\n",
    "ax1.set_ylabel('Head Simulated (m)')\n",
    "ax1.set_xlim([-1400,0]) \n",
    "ax1.set_ylim([-1400,0])\n",
    "        \n",
    "# VERTICALLY OFFSET\n",
    "gwf = all_gwf[1] \n",
    "head = all_h[1]\n",
    "print(len(head[0][0]))\n",
    "xcellcentres = gwf.modelgrid.xcellcenters\n",
    "zcellcentres = gwf.modelgrid.zcellcenters[0]\n",
    "\n",
    "h1, h2 = [], []\n",
    "for icell in range(len(spd)):\n",
    "    h1.append(head_analytical(h0, theta, hg, xcellcentres[icell], zcellcentres[icell])) # anlaytical\n",
    "    h2.append(head[0][0][icell]) # simulated\n",
    "ax2 = plt.subplot(122,aspect='equal')\n",
    "ax2.plot(h1,h2,'o', ms = 0.8)\n",
    "ax2.set_title('Vertically Offset', size = 14)  \n",
    "ax2.set_xlabel('Head Analytical(m)')\n",
    "ax2.set_ylabel('Head Simulated (m)')\n",
    "ax2.set_xlim([-1400,0]) \n",
    "ax2.set_ylim([-1400,0])           "
   ]
  },
  {
   "cell_type": "markdown",
   "metadata": {},
   "source": [
    "#### ZOOMED IN PLOT OF CHANNEL (USE WITH FINE RESOLUTION)"
   ]
  },
  {
   "cell_type": "code",
   "execution_count": 16,
   "metadata": {},
   "outputs": [
    {
     "data": {
      "image/png": "[encoded data removed]",
      "text/plain": [
       "<Figure size 432x216 with 2 Axes>"
      ]
     },
     "metadata": {
      "needs_background": "light"
     },
     "output_type": "display_data"
    }
   ],
   "source": [
    "from scipy.interpolate import griddata\n",
    "xG = np.linspace(delr1/2, Lx - delr1/2, ncol1)\n",
    "zG = np.linspace(delz1/2, Lz - delz1/2, nlay1)\n",
    "X, Z = np.meshgrid(xG, zG)\n",
    "levels = np.arange(-1500, 0, 20)\n",
    "\n",
    "from mpl_toolkits.axes_grid1 import make_axes_locatable\n",
    "if k1 == k3: #fig.suptitle(\"ISOTROPIC and XT3D = %s\" %xt3d, size = 16)\n",
    "    titles = ['RECTILINEAR\\nXT3D = %s' %xt3d,'VERTICALLY OFFSET\\nXT3D = %s' %xt3d]\n",
    "if k1 != k3: \n",
    "    titles = ['RECTILINEAR\\nXT3D = %s, Anisotropic' %xt3d,'VS\\nXT3D = %s, Anisotropic' %xt3d]\n",
    "\n",
    "fig, axes = plt.subplots(1,2, figsize=(6, 3),sharex=True, sharey=True)\n",
    "\n",
    "for i, ax in enumerate(axes.flat):\n",
    "    gwf = all_gwf[i]\n",
    "    ax = plt.subplot(1,2,i+1,aspect='equal')\n",
    "    ax.set_title(titles[i])  \n",
    "    xsect = flopy.plot.PlotCrossSection(model=all_gwf[i], line={\"line\": [(0.0, 0.5), (Lx, 0.5)]})\n",
    "    linecollection = xsect.plot_grid(lw = 0.3, color = 'black')\n",
    "    vx, vy, vz = all_qxqyqz[i]\n",
    "    xsect.plot_vector(vx, vy, vz, scale = 10, color='black', headwidth=2, headlength=0.1, headaxislength=2.)\n",
    "    \n",
    "    if i == 0: \n",
    "        h = all_h[i][:,0,:]\n",
    "        xc = gwf.modelgrid.xcellcenters\n",
    "        xa = [xc for k in range(nlay1)]\n",
    "        x = np.array(xa)[:,0,:]\n",
    "        z = gwf.modelgrid.zcellcenters[:,0,:]\n",
    "        CS = ax.contour(x,z,h,levels,colors='Blue', linestyles = 'solid', linewidths=1.0)\n",
    "\n",
    "    if i == 1: \n",
    "        h = all_h[i][0][0]\n",
    "        x = gwf.modelgrid.xcellcenters\n",
    "        z = gwf.modelgrid.zcellcenters[0] \n",
    "        from scipy.interpolate import griddata\n",
    "        xG = all_gwf[0].modelgrid.xcellcenters\n",
    "        zG = all_gwf[0].modelgrid.zcellcenters[:,0,:]\n",
    "        X, Z = np.meshgrid(xG, zG)\n",
    "        Hi = griddata((x, z), h, (X, Z), method='cubic')\n",
    "        CS = ax.contour(X,Z,Hi,levels,colors='Blue', linestyles = 'solid', linewidths=1.0)\n",
    "        #ax.clabel(CS, inline=1, fontsize=10, fmt='%1.0f')\n",
    "\n",
    "\n",
    "    ax.annotate(\"Flux magnitude = %.2f\\n Flux direction = %.2f\"%(q_centre[i], theta_centre[i]), (0.1,0.1),\n",
    "                    xycoords = 'axes fraction', bbox=dict(facecolor = 'white'))\n",
    "\n",
    "    ax.set_xlim([470,530]) #470,530\n",
    "    ax.set_ylim([470,530])\n",
    "    ax.set_xlabel('x (m)')\n",
    "    ax.set_ylabel('z (m)')\n",
    "plt.tight_layout()    \n",
    "plt.savefig('fig2_transect.tif', dpi=450)"
   ]
  },
  {
   "cell_type": "markdown",
   "metadata": {},
   "source": [
    "#### Volumetric Flow"
   ]
  },
  {
   "cell_type": "code",
   "execution_count": 17,
   "metadata": {},
   "outputs": [
    {
     "name": "stdout",
     "output_type": "stream",
     "text": [
      "ANALYTICAL VOLUMETRIC FLOW (m3/d) =  200.0\n",
      "\n",
      "RECTILINEAR CELLS  22500\n",
      "RECTILINEAR VOLUMETRIC FLOW =  194.92561547447505 ERROR =  -0.025371922627624742\n",
      "\n",
      "VERTICALLY OFFSET CELLS  15300\n",
      "VERTICALLY OFFSET VOLUMETRIC FLOW =  196.40320171158788 ERROR =  -0.017983991442060584\n"
     ]
    }
   ],
   "source": [
    "Q_analytical = k1 * (channel_width * Ly) * hg # Analytical: Q = kAi\n",
    "\n",
    "b = int(0.05*ncol1) # Buffer to remove boundary effects, b columns each side (5% of each side)\n",
    "                                        \n",
    "# Method 1 (RL) Volumetric flow - BUFFER\n",
    "Q1 = delr1 * delz1 * np.multiply(all_q[0][:,:,b:ncol1-b], mask1[:,:,b:ncol1-b]) \n",
    "L1 = (Lx-2*b*delr1)/np.cos(np.radians(theta))\n",
    "VOL_FLOW_1 = Q1.sum()/L1\n",
    "\n",
    "# Method 2 (VO) Volumetric flow - BUFFER\n",
    "q2 = np.array(all_q[1])\n",
    "q2 = q2.reshape((nlay2, nrow2, ncol2))\n",
    "Q2 = delr2 * del_channel * np.multiply(q2[:,:,b:ncol1-b], mask2[:,:,b:ncol1-b]) \n",
    "L2 = (Lx-2*b*delr2)/np.cos(np.radians(theta))\n",
    "VOL_FLOW_2 = Q2.sum() / L2\n",
    "\n",
    "print('ANALYTICAL VOLUMETRIC FLOW (m3/d) = ',Q_analytical)\n",
    "\n",
    "print('\\nRECTILINEAR CELLS ',nrow1*ncol1*nlay1)\n",
    "print('RECTILINEAR VOLUMETRIC FLOW = ', VOL_FLOW_1, 'ERROR = ',(VOL_FLOW_1 - Q_analytical)/Q_analytical)\n",
    "\n",
    "print('\\nVERTICALLY OFFSET CELLS ',nrow2*ncol2*nlay2)\n",
    "print('VERTICALLY OFFSET VOLUMETRIC FLOW = ', VOL_FLOW_2, 'ERROR = ',(VOL_FLOW_2 - Q_analytical)/Q_analytical) "
   ]
  },
  {
   "cell_type": "markdown",
   "metadata": {},
   "source": [
    "#### FIGURE FROM PAPER (USE WITH COARSE RESOLUTION)"
   ]
  },
  {
   "cell_type": "code",
   "execution_count": 18,
   "metadata": {},
   "outputs": [],
   "source": [
    "if ncol1 <= 40: # Plots only for coarse resolution\n",
    "\n",
    "    fig, axes = plt.subplots(1,2, figsize=(8, 4))\n",
    "\n",
    "    ax1 = plt.subplot(1,2,1,aspect='equal')\n",
    "    ax1.set_title('Rectilinear (RL)', size = 14)  \n",
    "    xsect = flopy.plot.PlotCrossSection(model=all_gwf[0], line={'Row': 0})\n",
    "    quadmesh = xsect.plot_array(mask1, cmap='ocean')\n",
    "    linecollection = xsect.plot_grid(color = 'black', linewidths=0.8)\n",
    "    vx, vy, vz = all_qxqyqz[0]\n",
    "    xsect.plot_vector(vx, vy, vz, scale = 20, color='black')#headwidth=2, headlength=0.1, headaxislength=2.)\n",
    "\n",
    "    ax2 = plt.subplot(1,2,2,aspect='equal')\n",
    "    ax2.set_title('Vertically Offset (VO)', size = 14)  \n",
    "    xsect = flopy.plot.PlotCrossSection(model=all_gwf[i], line={\"line\": [(0.0, 0.5), (Lx, 0.5)]})\n",
    "    quadmesh = xsect.plot_array(mask2, cmap='ocean')\n",
    "    linecollection = xsect.plot_grid(color = 'black', linewidths=0.8)\n",
    "    vx, vy, vz = all_qxqyqz[1]\n",
    "    xsect.plot_vector(vx, vy, vz, scale = 20, color='black')#headwidth=2, headlength=0.1, headaxislength=2.)\n",
    "    \n",
    "    c1, c2 = 100,100+channel_vertical\n",
    "    ax1.plot((0,Lx),(c1,slope*Lx+c1),color = 'black', lw=2.0)\n",
    "    ax1.plot((0,Lx),(c2,slope*Lx+c2),color = 'black', lw=2.0)\n",
    "    ax2.plot((0,Lx),(c1,slope*Lx+c1),color = 'black', lw=2.0)\n",
    "    ax2.plot((0,Lx),(c2,slope*Lx+c2),color = 'black', lw=2.0)\n",
    "    ax1.set_xlim([150, 600])\n",
    "    ax1.set_ylim([150, 600])\n",
    "    ax2.set_xlim([150, 600])\n",
    "    ax2.set_ylim([150, 600])\n",
    "    ax1.set_xlabel('x (m)', size = 12)\n",
    "    ax1.set_ylabel('y or z (m)', size = 12)\n",
    "    ax2.set_xlabel('x (m)', size = 12)\n",
    "    ax2.set_ylabel('z (m)', size = 12)\n",
    "    ax1.annotate(\"Coarse = %i cells\\nFine = 16,384 cells\\nVolumetric Flow Error = %0.1f %%\" %(nlay1*nrow1*ncol1,(VOL_FLOW_1 - Q_analytical)/Q_analytical*100),(170,170), \n",
    "                 size = 12, bbox=dict(facecolor = 'white'))\n",
    "    ax2.annotate(\"Coarse = %i cells\\nFine = 2,200 cells\\nVolumetric Flow Error = %0.1f %%\" %(nlay2*nrow2*ncol2,(VOL_FLOW_2 -Q_analytical)/Q_analytical*100),(170,170), \n",
    "                 size = 12, bbox=dict(facecolor = 'white'))\n",
    "\n",
    "    plt.tight_layout()    \n",
    "    plt.savefig('fig4_transect.tif', dpi=450)"
   ]
  },
  {
   "cell_type": "code",
   "execution_count": null,
   "metadata": {},
   "outputs": [],
   "source": []
  }
 ],
 "metadata": {
  "kernelspec": {
   "display_name": "Python 3",
   "language": "python",
   "name": "python3"
  },
  "language_info": {
   "codemirror_mode": {
    "name": "ipython",
    "version": 3
   },
   "file_extension": ".py",
   "mimetype": "text/x-python",
   "name": "python",
   "nbconvert_exporter": "python",
   "pygments_lexer": "ipython3",
   "version": "3.7.6"
  }
 },
 "nbformat": 4,
 "nbformat_minor": 4
}
