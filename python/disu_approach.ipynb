{
 "cells": [
  {
   "cell_type": "code",
   "execution_count": null,
   "id": "bdc54f1f-faa8-4d39-9f03-485d8767780e",
   "metadata": {},
   "outputs": [],
   "source": [
    "import os\n",
    "import numpy as np\n",
    "import matplotlib.pyplot as plt\n",
    "import flopy\n",
    "import flopy.plot.styles as styles\n",
    "from dis2disu import Dis2Disu"
   ]
  },
  {
   "cell_type": "code",
   "execution_count": null,
   "id": "f0d1f6df",
   "metadata": {},
   "outputs": [],
   "source": [
    "Lx = 5.0\n",
    "Lz = 3.0\n",
    "nlay, nrow, ncol = 2, 1, 10\n",
    "delc = 1.\n",
    "delr = float(Lx / ncol)\n",
    "delz = float(Lz / nlay)\n",
    "top = np.linspace(.5 * delr, Lx - .5 * delr, ncol)\n",
    "top = top.reshape((nrow, ncol))\n",
    "botm = np.empty((nlay, nrow, ncol))\n",
    "botm[0] = top - delz\n",
    "for k in range(1, nlay):\n",
    "    botm[k] = botm[k - 1] - delz\n",
    "\n",
    "delr = delr * np.ones(ncol, dtype=float)\n",
    "delc = delc * np.ones(nrow, dtype=float)\n",
    "mgs = flopy.discretization.StructuredGrid(delr=delr, delc=delc, top=top, botm=botm)\n",
    "xs = flopy.plot.PlotCrossSection(modelgrid=mgs, line={\"row\":0})\n",
    "xs.plot_grid()\n",
    "\n",
    "d2d = Dis2Disu(delr, delc, top, botm, staggered=True)"
   ]
  },
  {
   "cell_type": "code",
   "execution_count": null,
   "id": "b614878b",
   "metadata": {},
   "outputs": [],
   "source": [
    "ws = './disu_model'\n",
    "name = 'mymodel'\n",
    "sim = flopy.mf6.MFSimulation(sim_name=name, sim_ws=ws, exe_name='mf6')\n",
    "tdis = flopy.mf6.ModflowTdis(sim)\n",
    "ims = flopy.mf6.ModflowIms(sim, linear_acceleration='bicgstab')\n",
    "gwf = flopy.mf6.ModflowGwf(sim, modelname=name, save_flows=True)\n",
    "disu = flopy.mf6.ModflowGwfdisu(gwf, **d2d.get_gridprops_disu6())\n",
    "ic = flopy.mf6.ModflowGwfic(gwf)\n",
    "npf = flopy.mf6.ModflowGwfnpf(gwf, save_specific_discharge=True, xt3doptions=True,\n",
    "                              angle1=0., angle2=0., angle3=0.)\n",
    "chd = flopy.mf6.ModflowGwfchd(gwf, stress_period_data=[[(0,), 1.], [(10,), 1.], [(9,), 0.], [(19,), 0.]])\n",
    "budget_file = name + '.bud'\n",
    "head_file = name + '.hds'\n",
    "oc = flopy.mf6.ModflowGwfoc(gwf,\n",
    "                            budget_filerecord=budget_file,\n",
    "                            head_filerecord=head_file,\n",
    "                            saverecord=[('HEAD', 'ALL'), ('BUDGET', 'ALL')])\n",
    "sim.write_simulation()\n",
    "sim.run_simulation()\n",
    "\n",
    "head = gwf.output.head().get_data()\n",
    "bud = gwf.output.budget()\n",
    "spdis = bud.get_data(text='DATA-SPDIS')[0]\n",
    "qx, qy, qz = flopy.utils.postprocessing.get_specific_discharge(spdis, gwf)\n",
    "\n",
    "xs = flopy.plot.PlotCrossSection(model=gwf, line={\"line\": [(0.0, 0.5), (5.0, 0.5)]})\n",
    "xs.plot_array(head)\n",
    "xs.plot_grid()\n",
    "xs.plot_vector(qx, qy, qz, normalize=True, color=\"white\")"
   ]
  },
  {
   "cell_type": "code",
   "execution_count": null,
   "id": "26ef08cf",
   "metadata": {},
   "outputs": [],
   "source": []
  }
 ],
 "metadata": {
  "interpreter": {
   "hash": "4de6a03450f83fb469d4bfe842137d7a431c514d49ec7ab5bf926f55f681a3d1"
  },
  "kernelspec": {
   "display_name": "Python 3.9.7 ('base')",
   "language": "python",
   "name": "python3"
  },
  "language_info": {
   "codemirror_mode": {
    "name": "ipython",
    "version": 3
   },
   "file_extension": ".py",
   "mimetype": "text/x-python",
   "name": "python",
   "nbconvert_exporter": "python",
   "pygments_lexer": "ipython3",
   "version": "3.9.7"
  }
 },
 "nbformat": 4,
 "nbformat_minor": 5
}
