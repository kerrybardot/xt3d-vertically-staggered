{
 "cells": [
  {
   "cell_type": "code",
   "execution_count": 1,
   "id": "bdc54f1f-faa8-4d39-9f03-485d8767780e",
   "metadata": {},
   "outputs": [],
   "source": [
    "import os\n",
    "import numpy as np\n",
    "import math\n",
    "import matplotlib.pyplot as plt\n",
    "import flopy\n",
    "import flopy.plot.styles as styles\n",
    "from dis2disu import Dis2Disu"
   ]
  },
  {
   "cell_type": "code",
   "execution_count": 2,
   "id": "welcome-checklist",
   "metadata": {},
   "outputs": [],
   "source": [
    "ws = './disu_model'"
   ]
  },
  {
   "cell_type": "code",
   "execution_count": 3,
   "id": "f0d1f6df",
   "metadata": {},
   "outputs": [
    {
     "data": {
      "text/plain": [
       "<matplotlib.collections.PatchCollection at 0x29108e8cf48>"
      ]
     },
     "execution_count": 3,
     "metadata": {},
     "output_type": "execute_result"
    },
    {
     "data": {
      "image/png": "[encoded data removed]",
      "text/plain": [
       "<Figure size 432x288 with 1 Axes>"
      ]
     },
     "metadata": {
      "needs_background": "light"
     },
     "output_type": "display_data"
    }
   ],
   "source": [
    "# Lx is the full width of the model domain. The grid spacing in\n",
    "# the x direction is delr = Lx / ncol, and so the horizontal distance\n",
    "# between the left and right boundary conditions is Lx - delr. The\n",
    "# cells are square, i.e., delz = delr. The cross-sectional model has\n",
    "# unit thickness \"into the page,\" i.e., nrow = 1 and delc = 1.\n",
    "\n",
    "# The full thickness of the channel measured vertically is nlay * delz.\n",
    "# Theta is the angle (deg) at which the channel slopes, and so the\n",
    "# width of the \"true\" channel measured perpendicularly to the slope,\n",
    "# i.e., the width avaiable for flow along the slope of the channel,\n",
    "# is nlay * delz * cos(theta). The increase in elevation as one moves\n",
    "# a column to the right is delr * tan(theta).\n",
    "\n",
    "# adjustable grid parameters\n",
    "nlay, ncol = 6, 11\n",
    "Lx = 11.0\n",
    "theta = 30.\n",
    "#theta = math.atan(0.5) * 180. / math.pi   # this theta gives exactly 1/2 cell overlap\n",
    "\n",
    "# grid parameters intended to remain fixed\n",
    "nrow = 1\n",
    "delc = 1.\n",
    "\n",
    "# computed grid parameters\n",
    "delr = float(Lx / ncol)\n",
    "delz = delr\n",
    "zoffset = delr * math.tan(theta * math.pi / 180.)\n",
    "top = np.linspace(0., (ncol - 1) * zoffset, ncol)\n",
    "top = top.reshape((nrow, ncol))\n",
    "botm = np.empty((nlay, nrow, ncol))\n",
    "botm[0] = top - delz\n",
    "for k in range(1, nlay):\n",
    "    botm[k] = botm[k - 1] - delz\n",
    "\n",
    "# plot dis grid\n",
    "delr = delr * np.ones(ncol, dtype=float)\n",
    "delc = delc * np.ones(nrow, dtype=float)\n",
    "mgs = flopy.discretization.StructuredGrid(delr=delr, delc=delc,\n",
    "                                          top=top, botm=botm)\n",
    "fig = plt.figure()\n",
    "ax = fig.add_subplot(1, 1, 1, aspect=\"equal\")\n",
    "xs = flopy.plot.PlotCrossSection(modelgrid=mgs, ax=ax, line={\"row\":0})\n",
    "xs.plot_grid()"
   ]
  },
  {
   "cell_type": "code",
   "execution_count": 4,
   "id": "micro-hearing",
   "metadata": {},
   "outputs": [],
   "source": [
    "# scenario parameters\n",
    "parameters = {\n",
    "    \"mymodel-s-nocc\": {\n",
    "        \"xt3d\": False,\n",
    "        \"staggered\": False,\n",
    "    },\n",
    "    \"mymodel-x-nocc\": {\n",
    "        \"xt3d\": True,\n",
    "        \"staggered\": False,\n",
    "    },\n",
    "    \"mymodel-s-cc\": {\n",
    "        \"xt3d\": False,\n",
    "        \"staggered\": True,\n",
    "    },\n",
    "    \"mymodel-x-cc\": {\n",
    "        \"xt3d\": True,\n",
    "        \"staggered\": True,\n",
    "    },\n",
    "}"
   ]
  },
  {
   "cell_type": "code",
   "execution_count": 5,
   "id": "mexican-addition",
   "metadata": {},
   "outputs": [],
   "source": [
    "def print_spdis_summary(qx, qy, qz):\n",
    "    from tabulate import tabulate\n",
    "\n",
    "    jcolmid = int(ncol / 2)\n",
    "    klaymid = int(nlay / 2)\n",
    "    \n",
    "    qmagmin = qangmin = qmagmid = float('inf')\n",
    "    qmagmax = qangmax = qangmid = float('-inf')\n",
    "    qmagavg = qangavg = 0.\n",
    "    ncount = 0\n",
    "    icell = -1\n",
    "    for klay in range(nlay):\n",
    "        for jcol in range(ncol):\n",
    "            icell += 1\n",
    "            qqx = qx[icell]\n",
    "            qqz = qz[icell]\n",
    "            qmag = math.sqrt(qqx * qqx + qqz * qqz)\n",
    "            if (qqx == 0.):\n",
    "                if (qqz == 0.):\n",
    "                    qang = 0.\n",
    "                elif (qqz > 0.):\n",
    "                    qang = 90.\n",
    "                else:\n",
    "                    qang = -90.\n",
    "            else:\n",
    "                qang = math.atan(qqz / qqx) * 180. / math.pi\n",
    "            ncount += 1\n",
    "            qmagmin = min([qmagmin, qmag])\n",
    "            qmagmax = max([qmagmax, qmag])\n",
    "            qmagavg += qmag\n",
    "            qangmin = min([qangmin, qang])\n",
    "            qangmax = max([qangmax, qang])\n",
    "            qangavg += qang\n",
    "            if (klay == klaymid) and (jcol == jcolmid):\n",
    "                qmagmid = qmag\n",
    "                qangmid = qang\n",
    "    qmagavg = qmagavg / ncount\n",
    "    qangavg = qangavg / ncount\n",
    "    qmagana = 1.\n",
    "    slope = (top[0][1] - top[0][0]) / delr[0]\n",
    "    qangana = math.atan(slope) * 180. / math.pi\n",
    "\n",
    "    print (\"\\nSPECIFIC DISCHARGE:\")\n",
    "    qdata = [\n",
    "        [\"analytical\", qmagana, qangana],\n",
    "        [\"mid-channel\", qmagmid, qangmid],\n",
    "        [\"avg\", qmagavg, qangavg],\n",
    "        [\"min\", qmagmin, qangmin],\n",
    "        [\"max\", qmagmax, qangmax],\n",
    "    ]\n",
    "    qhead = [\"\", \"magnitude\", \"angle\",]\n",
    "    print(tabulate(qdata, headers=qhead, tablefmt=\"simple\", floatfmt=\".14f\"))\n",
    "    \n",
    "    return"
   ]
  },
  {
   "cell_type": "code",
   "execution_count": 6,
   "id": "coral-moderator",
   "metadata": {},
   "outputs": [],
   "source": [
    "def build_model(sim_name, xt3d, staggered):\n",
    "    global d2d\n",
    "    \n",
    "    # convert to disu grid\n",
    "    d2d = Dis2Disu(delr, delc, top, botm, staggered=staggered)\n",
    "    \n",
    "    sim_ws = os.path.join(ws, sim_name)\n",
    "    sim = flopy.mf6.MFSimulation(sim_name=sim_name, sim_ws=sim_ws, exe_name='./bin/mf6')\n",
    "    tdis = flopy.mf6.ModflowTdis(sim)\n",
    "    ims = flopy.mf6.ModflowIms(sim, linear_acceleration='bicgstab')\n",
    "    gwf = flopy.mf6.ModflowGwf(sim, modelname=sim_name,\n",
    "                               save_flows=True, print_flows=True)\n",
    "    disu = flopy.mf6.ModflowGwfdisu(gwf, **d2d.get_gridprops_disu6())\n",
    "    ic = flopy.mf6.ModflowGwfic(gwf)\n",
    "    npf = flopy.mf6.ModflowGwfnpf(gwf, save_specific_discharge=True,\n",
    "                                  xt3doptions=xt3d,\n",
    "                                  angle1=0., angle2=0., angle3=0.)\n",
    "\n",
    "    # Set boundary heads to analytical values a la Bardot et al (2022),\n",
    "    # assuming a head gradient of magnitude -1.:\n",
    "    # head = cos(theta) * x + sin(theta) * z\n",
    "    thetarad = theta * math.pi / 180.\n",
    "    sintheta = math.sin(thetarad)\n",
    "    costheta = math.cos(thetarad)\n",
    "    xcleft = 0.5 * delr[0]\n",
    "    xcright = Lx - 0.5 * delr[0]\n",
    "    spd = []\n",
    "    for klay in range(nlay):\n",
    "        icleft = klay*ncol\n",
    "        icright = icleft + ncol - 1\n",
    "        zdrop = float(klay + 0.5) * delz\n",
    "        zcleft = top[0][0] - zdrop\n",
    "        zcright = top[0][ncol - 1] - zdrop\n",
    "        hcleft = - (costheta * xcleft + sintheta * zcleft)\n",
    "        hcright = - (costheta * xcright + sintheta * zcright)\n",
    "        spd.append([(icleft,), hcleft])\n",
    "        spd.append([(icright,), hcright])\n",
    "\n",
    "    chd = flopy.mf6.ModflowGwfchd(gwf, stress_period_data=spd)\n",
    "\n",
    "    budget_file = sim_name + '.bud'\n",
    "    head_file = sim_name + '.hds'\n",
    "    oc = flopy.mf6.ModflowGwfoc(gwf,\n",
    "                                budget_filerecord=budget_file,\n",
    "                                head_filerecord=head_file,\n",
    "                                saverecord=[('HEAD', 'ALL'), ('BUDGET', 'ALL')],\n",
    "                                printrecord=[('BUDGET', 'ALL'), ('HEAD', 'ALL')],)\n",
    "\n",
    "    return sim"
   ]
  },
  {
   "cell_type": "code",
   "execution_count": 7,
   "id": "vocal-respect",
   "metadata": {},
   "outputs": [],
   "source": [
    "def simulation(idx, silent=True):\n",
    "    key = list(parameters.keys())[idx]\n",
    "    params = parameters[key].copy()\n",
    "    sim = build_model(key, **params)\n",
    "    sim.write_simulation(silent=silent)\n",
    "    success, buff = sim.run_simulation(silent=silent, report=True)\n",
    "    if not success:\n",
    "        print(buff)\n",
    "    else:\n",
    "        plot_results(idx, sim)"
   ]
  },
  {
   "cell_type": "code",
   "execution_count": 8,
   "id": "b614878b",
   "metadata": {
    "scrolled": false
   },
   "outputs": [],
   "source": [
    "def plot_results(idx, sim):\n",
    "\n",
    "    sim_name = list(parameters.keys())[idx]\n",
    "    sim_ws = os.path.join(ws, sim_name)\n",
    "    gwf = sim.get_model(sim_name)\n",
    "    staggered = parameters[sim_name][\"staggered\"]\n",
    "\n",
    "    head = gwf.output.head().get_data()\n",
    "    bud = gwf.output.budget()\n",
    "    spdis = bud.get_data(text='DATA-SPDIS')[0]\n",
    "    qx, qy, qz = flopy.utils.postprocessing.get_specific_discharge(spdis, gwf)\n",
    "    # if cross-connections, recalculate qx taking into account overlap areas\n",
    "    if staggered:\n",
    "        flowja = bud.get_data(text='FLOW-JA')[0][0][0]\n",
    "        gp = d2d.get_gridprops_disu6()\n",
    "        iac = gp[\"iac\"]\n",
    "        ja = gp[\"ja\"]\n",
    "        ihc = gp[\"ihc\"]\n",
    "        topbycell = gp[\"top\"]\n",
    "        botbycell = gp[\"bot\"]\n",
    "        hwva = gp[\"hwva\"]\n",
    "        iconn = -1\n",
    "        icell = -1\n",
    "        for il in iac:\n",
    "            icell += 1\n",
    "            qxnumer = 0.\n",
    "            qxdenom = 0.\n",
    "            for ilnbr in range(il):\n",
    "                iconn += 1\n",
    "                if ihc[iconn] == 2:\n",
    "                    inbr = ja[iconn]\n",
    "                    if (inbr == icell):\n",
    "                        continue\n",
    "                    dz = min(topbycell[icell], topbycell[inbr]) - max(botbycell[icell], botbycell[inbr])\n",
    "                    qxincr = flowja[iconn] / (hwva[iconn] * dz)\n",
    "                    # equal weight given to each face, but could weight by distance instead\n",
    "                    if (inbr < icell):\n",
    "                        qxnumer += qxincr\n",
    "                    else:\n",
    "                        qxnumer -= qxincr\n",
    "                    qxdenom += 1.\n",
    "            qx[icell] = qxnumer / qxdenom\n",
    "\n",
    "    # print specific discharge summary\n",
    "    print_spdis_summary(qx, qy, qz)\n",
    "\n",
    "    fig = plt.figure()\n",
    "    ax = fig.add_subplot(1, 1, 1, aspect=\"equal\")\n",
    "    xs = flopy.plot.PlotCrossSection(model=gwf, ax=ax,\n",
    "                                     line={\"line\": [(0.0, 0.5), (Lx, 0.5)]})\n",
    "    xs.plot_array(head)\n",
    "    xs.plot_grid()\n",
    "    xs.plot_vector(qx, qy, qz, normalize=False, color=\"white\")\n",
    "\n",
    "    # save figure\n",
    "    figure_ext = \".png\"\n",
    "    fpth = os.path.join(\n",
    "        \"..\", \"figures\", \"{}-head{}\".format(sim_name, figure_ext)\n",
    "    )\n",
    "    \n",
    "    fig.savefig(fpth)\n",
    "    \n",
    "    return"
   ]
  },
  {
   "cell_type": "markdown",
   "id": "attractive-heating",
   "metadata": {},
   "source": [
    "Simulation results for scenario 0, which features:\n",
    "1. no cross-connections (not staggered)\n",
    "2. standard conductance formulation (xt3d off)"
   ]
  },
  {
   "cell_type": "code",
   "execution_count": 9,
   "id": "coral-johns",
   "metadata": {
    "scrolled": false
   },
   "outputs": [
    {
     "name": "stdout",
     "output_type": "stream",
     "text": [
      "WARNING: Unable to resolve dimension of ('gwf6', 'disu', 'cell2d', 'cell2d', 'icvert') based on shape \"ncvert\".\n",
      "\n",
      "SPECIFIC DISCHARGE:\n",
      "                    magnitude              angle\n",
      "-----------  ----------------  -----------------\n",
      "analytical   1.00000000000000  30.00000000000000\n",
      "mid-channel  1.15812169429512   4.40508647828339\n",
      "avg          1.18552282900020  10.66704930740286\n",
      "min          0.78615267109896   2.39328170488982\n",
      "max          1.75124730664751  38.39088871981613\n"
     ]
    },
    {
     "data": {
      "image/png": "[encoded data removed]",
      "text/plain": [
       "<Figure size 432x288 with 1 Axes>"
      ]
     },
     "metadata": {
      "needs_background": "light"
     },
     "output_type": "display_data"
    }
   ],
   "source": [
    "simulation(0)"
   ]
  },
  {
   "cell_type": "markdown",
   "id": "sudden-intent",
   "metadata": {},
   "source": [
    "Simulation results for scenario 1, which features:\n",
    "1. no cross-connections (not staggered)\n",
    "2. xt3d"
   ]
  },
  {
   "cell_type": "code",
   "execution_count": 10,
   "id": "pleased-circulation",
   "metadata": {},
   "outputs": [
    {
     "name": "stdout",
     "output_type": "stream",
     "text": [
      "WARNING: Unable to resolve dimension of ('gwf6', 'disu', 'cell2d', 'cell2d', 'icvert') based on shape \"ncvert\".\n",
      "\n",
      "SPECIFIC DISCHARGE:\n",
      "                    magnitude              angle\n",
      "-----------  ----------------  -----------------\n",
      "analytical   1.00000000000000  30.00000000000000\n",
      "mid-channel  1.03808857062696   4.84913524103195\n",
      "avg          1.08261852514846  11.75542582350578\n",
      "min          0.70389489468688   2.66906636907733\n",
      "max          1.66491123474858  42.69124875128474\n"
     ]
    },
    {
     "data": {
      "image/png": "[encoded data removed]",
      "text/plain": [
       "<Figure size 432x288 with 1 Axes>"
      ]
     },
     "metadata": {
      "needs_background": "light"
     },
     "output_type": "display_data"
    }
   ],
   "source": [
    "simulation(1)"
   ]
  },
  {
   "cell_type": "markdown",
   "id": "several-hollywood",
   "metadata": {},
   "source": [
    "Simulation results for scenario 2, which features:\n",
    "1. cross-connections (staggered)\n",
    "2. standard conductance formulation (xt3d off)"
   ]
  },
  {
   "cell_type": "code",
   "execution_count": 11,
   "id": "accepting-frederick",
   "metadata": {},
   "outputs": [
    {
     "name": "stdout",
     "output_type": "stream",
     "text": [
      "WARNING: Unable to resolve dimension of ('gwf6', 'disu', 'cell2d', 'cell2d', 'icvert') based on shape \"ncvert\".\n",
      "\n",
      "SPECIFIC DISCHARGE:\n",
      "                    magnitude              angle\n",
      "-----------  ----------------  -----------------\n",
      "analytical   1.00000000000000  30.00000000000000\n",
      "mid-channel  1.02264804588361  24.39868606682424\n",
      "avg          1.06189337858883  24.91810798070954\n",
      "min          0.97640357240278  21.56672056853805\n",
      "max          1.36023166685126  30.80269970389571\n"
     ]
    },
    {
     "data": {
      "image/png": "[encoded data removed]",
      "text/plain": [
       "<Figure size 432x288 with 1 Axes>"
      ]
     },
     "metadata": {
      "needs_background": "light"
     },
     "output_type": "display_data"
    }
   ],
   "source": [
    "simulation (2)"
   ]
  },
  {
   "cell_type": "markdown",
   "id": "mechanical-metabolism",
   "metadata": {},
   "source": [
    "Simulation results for scenario 3, which features:\n",
    "1. cross-connections (staggered)\n",
    "2. xt3d"
   ]
  },
  {
   "cell_type": "code",
   "execution_count": 12,
   "id": "informative-republic",
   "metadata": {},
   "outputs": [
    {
     "name": "stdout",
     "output_type": "stream",
     "text": [
      "WARNING: Unable to resolve dimension of ('gwf6', 'disu', 'cell2d', 'cell2d', 'icvert') based on shape \"ncvert\".\n",
      "\n",
      "SPECIFIC DISCHARGE:\n",
      "                    magnitude              angle\n",
      "-----------  ----------------  -----------------\n",
      "analytical   1.00000000000000  30.00000000000000\n",
      "mid-channel  1.00000000018347  30.00000004680312\n",
      "avg          1.00000000066281  30.00000000595226\n",
      "min          0.99999999678140  29.99999961820053\n",
      "max          1.00000000677581  30.00000010647039\n"
     ]
    },
    {
     "data": {
      "image/png": "[encoded data removed]",
      "text/plain": [
       "<Figure size 432x288 with 1 Axes>"
      ]
     },
     "metadata": {
      "needs_background": "light"
     },
     "output_type": "display_data"
    }
   ],
   "source": [
    "simulation(3)"
   ]
  },
  {
   "cell_type": "code",
   "execution_count": null,
   "id": "systematic-scout",
   "metadata": {},
   "outputs": [],
   "source": []
  }
 ],
 "metadata": {
  "interpreter": {
   "hash": "4de6a03450f83fb469d4bfe842137d7a431c514d49ec7ab5bf926f55f681a3d1"
  },
  "kernelspec": {
   "display_name": "Python 3 (ipykernel)",
   "language": "python",
   "name": "python3"
  },
  "language_info": {
   "codemirror_mode": {
    "name": "ipython",
    "version": 3
   },
   "file_extension": ".py",
   "mimetype": "text/x-python",
   "name": "python",
   "nbconvert_exporter": "python",
   "pygments_lexer": "ipython3",
   "version": "3.7.10"
  }
 },
 "nbformat": 4,
 "nbformat_minor": 5
}
